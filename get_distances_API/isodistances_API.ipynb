{
 "cells": [
  {
   "cell_type": "markdown",
   "metadata": {},
   "source": [
    "# Get isodistances from API\n",
    "https://docs.traveltime.com/api/reference/distance-map#results-search_id"
   ]
  },
  {
   "cell_type": "code",
   "execution_count": 5,
   "metadata": {},
   "outputs": [],
   "source": [
    "import requests\n",
    "import pandas as pd\n",
    "import geopandas as gpd\n",
    "import numpy as np\n",
    "from shapely.geometry import Polygon\n",
    "import folium\n",
    "import time"
   ]
  },
  {
   "cell_type": "code",
   "execution_count": 2,
   "metadata": {},
   "outputs": [
    {
     "data": {
      "text/html": [
       "<div>\n",
       "<style scoped>\n",
       "    .dataframe tbody tr th:only-of-type {\n",
       "        vertical-align: middle;\n",
       "    }\n",
       "\n",
       "    .dataframe tbody tr th {\n",
       "        vertical-align: top;\n",
       "    }\n",
       "\n",
       "    .dataframe thead th {\n",
       "        text-align: right;\n",
       "    }\n",
       "</style>\n",
       "<table border=\"1\" class=\"dataframe\">\n",
       "  <thead>\n",
       "    <tr style=\"text-align: right;\">\n",
       "      <th></th>\n",
       "      <th>name</th>\n",
       "      <th>lat</th>\n",
       "      <th>long</th>\n",
       "    </tr>\n",
       "  </thead>\n",
       "  <tbody>\n",
       "    <tr>\n",
       "      <th>0</th>\n",
       "      <td>Luusbarg</td>\n",
       "      <td>53.570125</td>\n",
       "      <td>9.761084</td>\n",
       "    </tr>\n",
       "    <tr>\n",
       "      <th>1</th>\n",
       "      <td>Luusbarg</td>\n",
       "      <td>53.570329</td>\n",
       "      <td>9.761556</td>\n",
       "    </tr>\n",
       "    <tr>\n",
       "      <th>2</th>\n",
       "      <td>Luusbarg</td>\n",
       "      <td>53.568481</td>\n",
       "      <td>9.760017</td>\n",
       "    </tr>\n",
       "    <tr>\n",
       "      <th>3</th>\n",
       "      <td>Luusbarg</td>\n",
       "      <td>53.568468</td>\n",
       "      <td>9.759341</td>\n",
       "    </tr>\n",
       "    <tr>\n",
       "      <th>4</th>\n",
       "      <td>Luusbarg</td>\n",
       "      <td>53.567232</td>\n",
       "      <td>9.759298</td>\n",
       "    </tr>\n",
       "  </tbody>\n",
       "</table>\n",
       "</div>"
      ],
      "text/plain": [
       "       name        lat      long\n",
       "0  Luusbarg  53.570125  9.761084\n",
       "1  Luusbarg  53.570329  9.761556\n",
       "2  Luusbarg  53.568481  9.760017\n",
       "3  Luusbarg  53.568468  9.759341\n",
       "4  Luusbarg  53.567232  9.759298"
      ]
     },
     "execution_count": 2,
     "metadata": {},
     "output_type": "execute_result"
    }
   ],
   "source": [
    "# load park entrances in dataframe\n",
    "entrances_df = pd.read_json('../get_park_data/total_park_entrances.json')\n",
    "# load park list with distances in dataframe\n",
    "distances_df = pd.read_json('../get_park_data/distance_data.json', orient='index')\n",
    "entrances_df.head()"
   ]
  },
  {
   "cell_type": "code",
   "execution_count": 3,
   "metadata": {},
   "outputs": [
    {
     "data": {
      "text/html": [
       "<div>\n",
       "<style scoped>\n",
       "    .dataframe tbody tr th:only-of-type {\n",
       "        vertical-align: middle;\n",
       "    }\n",
       "\n",
       "    .dataframe tbody tr th {\n",
       "        vertical-align: top;\n",
       "    }\n",
       "\n",
       "    .dataframe thead th {\n",
       "        text-align: right;\n",
       "    }\n",
       "</style>\n",
       "<table border=\"1\" class=\"dataframe\">\n",
       "  <thead>\n",
       "    <tr style=\"text-align: right;\">\n",
       "      <th></th>\n",
       "      <th>name</th>\n",
       "      <th>lat</th>\n",
       "      <th>long</th>\n",
       "      <th>walk_dist</th>\n",
       "    </tr>\n",
       "  </thead>\n",
       "  <tbody>\n",
       "    <tr>\n",
       "      <th>0</th>\n",
       "      <td>Luusbarg</td>\n",
       "      <td>53.570125</td>\n",
       "      <td>9.761084</td>\n",
       "      <td>500</td>\n",
       "    </tr>\n",
       "    <tr>\n",
       "      <th>1</th>\n",
       "      <td>Luusbarg</td>\n",
       "      <td>53.570329</td>\n",
       "      <td>9.761556</td>\n",
       "      <td>500</td>\n",
       "    </tr>\n",
       "    <tr>\n",
       "      <th>2</th>\n",
       "      <td>Luusbarg</td>\n",
       "      <td>53.568481</td>\n",
       "      <td>9.760017</td>\n",
       "      <td>500</td>\n",
       "    </tr>\n",
       "    <tr>\n",
       "      <th>3</th>\n",
       "      <td>Luusbarg</td>\n",
       "      <td>53.568468</td>\n",
       "      <td>9.759341</td>\n",
       "      <td>500</td>\n",
       "    </tr>\n",
       "    <tr>\n",
       "      <th>4</th>\n",
       "      <td>Luusbarg</td>\n",
       "      <td>53.567232</td>\n",
       "      <td>9.759298</td>\n",
       "      <td>500</td>\n",
       "    </tr>\n",
       "  </tbody>\n",
       "</table>\n",
       "</div>"
      ],
      "text/plain": [
       "       name        lat      long  walk_dist\n",
       "0  Luusbarg  53.570125  9.761084        500\n",
       "1  Luusbarg  53.570329  9.761556        500\n",
       "2  Luusbarg  53.568481  9.760017        500\n",
       "3  Luusbarg  53.568468  9.759341        500\n",
       "4  Luusbarg  53.567232  9.759298        500"
      ]
     },
     "execution_count": 3,
     "metadata": {},
     "output_type": "execute_result"
    }
   ],
   "source": [
    "# walking distances added to park entrances\n",
    "park_entrances=entrances_df.merge(distances_df, how='left', on = 'name')\n",
    "park_entrances.head()"
   ]
  },
  {
   "cell_type": "code",
   "execution_count": 4,
   "metadata": {},
   "outputs": [
    {
     "data": {
      "text/html": [
       "<div>\n",
       "<style scoped>\n",
       "    .dataframe tbody tr th:only-of-type {\n",
       "        vertical-align: middle;\n",
       "    }\n",
       "\n",
       "    .dataframe tbody tr th {\n",
       "        vertical-align: top;\n",
       "    }\n",
       "\n",
       "    .dataframe thead th {\n",
       "        text-align: right;\n",
       "    }\n",
       "</style>\n",
       "<table border=\"1\" class=\"dataframe\">\n",
       "  <thead>\n",
       "    <tr style=\"text-align: right;\">\n",
       "      <th></th>\n",
       "      <th>name</th>\n",
       "      <th>lat</th>\n",
       "      <th>long</th>\n",
       "      <th>walk_dist</th>\n",
       "    </tr>\n",
       "  </thead>\n",
       "  <tbody>\n",
       "    <tr>\n",
       "      <th>0</th>\n",
       "      <td>Luusbarg</td>\n",
       "      <td>53.570125</td>\n",
       "      <td>9.761084</td>\n",
       "      <td>500</td>\n",
       "    </tr>\n",
       "    <tr>\n",
       "      <th>1</th>\n",
       "      <td>Luusbarg</td>\n",
       "      <td>53.570329</td>\n",
       "      <td>9.761556</td>\n",
       "      <td>500</td>\n",
       "    </tr>\n",
       "    <tr>\n",
       "      <th>2</th>\n",
       "      <td>Luusbarg</td>\n",
       "      <td>53.568481</td>\n",
       "      <td>9.760017</td>\n",
       "      <td>500</td>\n",
       "    </tr>\n",
       "    <tr>\n",
       "      <th>3</th>\n",
       "      <td>Luusbarg</td>\n",
       "      <td>53.568468</td>\n",
       "      <td>9.759341</td>\n",
       "      <td>500</td>\n",
       "    </tr>\n",
       "    <tr>\n",
       "      <th>4</th>\n",
       "      <td>Luusbarg</td>\n",
       "      <td>53.567232</td>\n",
       "      <td>9.759298</td>\n",
       "      <td>500</td>\n",
       "    </tr>\n",
       "  </tbody>\n",
       "</table>\n",
       "</div>"
      ],
      "text/plain": [
       "       name        lat      long  walk_dist\n",
       "0  Luusbarg  53.570125  9.761084        500\n",
       "1  Luusbarg  53.570329  9.761556        500\n",
       "2  Luusbarg  53.568481  9.760017        500\n",
       "3  Luusbarg  53.568468  9.759341        500\n",
       "4  Luusbarg  53.567232  9.759298        500"
      ]
     },
     "execution_count": 4,
     "metadata": {},
     "output_type": "execute_result"
    }
   ],
   "source": [
    "park_entrances_500 = park_entrances[park_entrances[\"walk_dist\"] == 500]\n",
    "park_entrances_1000 = park_entrances[park_entrances[\"walk_dist\"] == 1000]\n",
    "park_entrances_1500 = park_entrances[park_entrances[\"walk_dist\"] == 1500]\n",
    "park_entrances_500.head()"
   ]
  },
  {
   "cell_type": "code",
   "execution_count": 19,
   "metadata": {},
   "outputs": [],
   "source": [
    "import requests\n",
    "\n",
    "headers = {\n",
    "    'Content-Type': 'application/json',\n",
    "    'Accept': 'application/geo+json',\n",
    "    'X-Application-Id': 'ea148590',\n",
    "    'X-Api-Key': '1527186dff933ad044809a8e222f3661',\n",
    "}\n",
    "\n",
    "json_data = {\n",
    "    'departure_searches': [\n",
    "        {\n",
    "            'id': 'driving from Trafalgar Square',\n",
    "            'departure_time': '2023-11-22T10:00:00Z',\n",
    "            'travel_distance': 900,\n",
    "            'coords': {\n",
    "                'lat': 51.507609,\n",
    "                'lng': -0.128315,\n",
    "            },\n",
    "            'transportation': {\n",
    "                'type': 'driving',\n",
    "            },\n",
    "        },\n",
    "    ],\n",
    "    'arrival_searches': [\n",
    "        {\n",
    "            'id': 'driving to Trafalgar Square',\n",
    "            'arrival_time': '2023-11-22T11:00:00Z',\n",
    "            'travel_distance': 900,\n",
    "            'coords': {\n",
    "                'lat': 51.507609,\n",
    "                'lng': -0.128315,\n",
    "            },\n",
    "            'transportation': {\n",
    "                'type': 'driving',\n",
    "            },\n",
    "        },\n",
    "    ],\n",
    "}\n",
    "\n",
    "response = requests.post('https://api.traveltimeapp.com/v4/distance-map', headers=headers, json=json_data)\n",
    "\n",
    "# Note: json_data will not be serialized by requests\n",
    "# exactly as it was in the original request.\n",
    "#data = '{\\n  \"departure_searches\": [\\n    {\\n      \"id\": \"driving from Trafalgar Square\",\\n      \"departure_time\": \"2023-11-22T10:00:00Z\",\\n      \"travel_distance\": 900,\\n      \"coords\": {\\n        \"lat\": 51.507609,\\n        \"lng\": -0.128315\\n      },\\n      \"transportation\": {\\n        \"type\": \"driving\"\\n      }\\n    }\\n  ],\\n  \"arrival_searches\": [\\n    {\\n      \"id\": \"driving to Trafalgar Square\",\\n      \"arrival_time\": \"2023-11-22T11:00:00Z\",\\n      \"travel_distance\": 900,\\n      \"coords\": {\\n        \"lat\": 51.507609,\\n        \"lng\": -0.128315\\n      },\\n      \"transportation\": {\\n        \"type\": \"driving\"\\n      }\\n    }\\n  ]\\n}'\n",
    "response = requests.post('https://api.traveltimeapp.com/v4/distance-map', headers=headers, data=data)"
   ]
  },
  {
   "cell_type": "code",
   "execution_count": 20,
   "metadata": {},
   "outputs": [
    {
     "name": "stdout",
     "output_type": "stream",
     "text": [
      "<Response [200]>\n"
     ]
    }
   ],
   "source": [
    "print(response)"
   ]
  },
  {
   "cell_type": "code",
   "execution_count": 22,
   "metadata": {},
   "outputs": [
    {
     "ename": "RuntimeError",
     "evalue": "asyncio.run() cannot be called from a running event loop",
     "output_type": "error",
     "traceback": [
      "\u001b[1;31m---------------------------------------------------------------------------\u001b[0m",
      "\u001b[1;31mRuntimeError\u001b[0m                              Traceback (most recent call last)",
      "\u001b[1;32mc:\\Users\\nico-\\Documents\\Masterarbeit\\Code\\get_distances_API\\isodistances_API.ipynb Cell 8\u001b[0m line \u001b[0;36m1\n\u001b[0;32m      <a href='vscode-notebook-cell:/c%3A/Users/nico-/Documents/Masterarbeit/Code/get_distances_API/isodistances_API.ipynb#X11sZmlsZQ%3D%3D?line=8'>9</a>\u001b[0m     results \u001b[39m=\u001b[39m \u001b[39mawait\u001b[39;00m sdk\u001b[39m.\u001b[39mtime_map_async(\n\u001b[0;32m     <a href='vscode-notebook-cell:/c%3A/Users/nico-/Documents/Masterarbeit/Code/get_distances_API/isodistances_API.ipynb#X11sZmlsZQ%3D%3D?line=9'>10</a>\u001b[0m         coordinates\u001b[39m=\u001b[39m[Coordinates(lat\u001b[39m=\u001b[39m\u001b[39m51.507609\u001b[39m, lng\u001b[39m=\u001b[39m\u001b[39m-\u001b[39m\u001b[39m0.128315\u001b[39m), Coordinates(lat\u001b[39m=\u001b[39m\u001b[39m51.517609\u001b[39m, lng\u001b[39m=\u001b[39m\u001b[39m-\u001b[39m\u001b[39m0.138315\u001b[39m)],\n\u001b[0;32m     <a href='vscode-notebook-cell:/c%3A/Users/nico-/Documents/Masterarbeit/Code/get_distances_API/isodistances_API.ipynb#X11sZmlsZQ%3D%3D?line=10'>11</a>\u001b[0m         arrival_time\u001b[39m=\u001b[39mdatetime\u001b[39m.\u001b[39mnow(),\n\u001b[0;32m     <a href='vscode-notebook-cell:/c%3A/Users/nico-/Documents/Masterarbeit/Code/get_distances_API/isodistances_API.ipynb#X11sZmlsZQ%3D%3D?line=11'>12</a>\u001b[0m         transportation\u001b[39m=\u001b[39mDriving()\n\u001b[0;32m     <a href='vscode-notebook-cell:/c%3A/Users/nico-/Documents/Masterarbeit/Code/get_distances_API/isodistances_API.ipynb#X11sZmlsZQ%3D%3D?line=12'>13</a>\u001b[0m     )\n\u001b[0;32m     <a href='vscode-notebook-cell:/c%3A/Users/nico-/Documents/Masterarbeit/Code/get_distances_API/isodistances_API.ipynb#X11sZmlsZQ%3D%3D?line=13'>14</a>\u001b[0m     \u001b[39mprint\u001b[39m(results)\n\u001b[1;32m---> <a href='vscode-notebook-cell:/c%3A/Users/nico-/Documents/Masterarbeit/Code/get_distances_API/isodistances_API.ipynb#X11sZmlsZQ%3D%3D?line=15'>16</a>\u001b[0m asyncio\u001b[39m.\u001b[39;49mrun(main())\n",
      "File \u001b[1;32mc:\\Users\\nico-\\AppData\\Local\\Programs\\Python\\Python310\\lib\\asyncio\\runners.py:33\u001b[0m, in \u001b[0;36mrun\u001b[1;34m(main, debug)\u001b[0m\n\u001b[0;32m      9\u001b[0m \u001b[39m\"\"\"Execute the coroutine and return the result.\u001b[39;00m\n\u001b[0;32m     10\u001b[0m \n\u001b[0;32m     11\u001b[0m \u001b[39mThis function runs the passed coroutine, taking care of\u001b[39;00m\n\u001b[1;32m   (...)\u001b[0m\n\u001b[0;32m     30\u001b[0m \u001b[39m    asyncio.run(main())\u001b[39;00m\n\u001b[0;32m     31\u001b[0m \u001b[39m\"\"\"\u001b[39;00m\n\u001b[0;32m     32\u001b[0m \u001b[39mif\u001b[39;00m events\u001b[39m.\u001b[39m_get_running_loop() \u001b[39mis\u001b[39;00m \u001b[39mnot\u001b[39;00m \u001b[39mNone\u001b[39;00m:\n\u001b[1;32m---> 33\u001b[0m     \u001b[39mraise\u001b[39;00m \u001b[39mRuntimeError\u001b[39;00m(\n\u001b[0;32m     34\u001b[0m         \u001b[39m\"\u001b[39m\u001b[39masyncio.run() cannot be called from a running event loop\u001b[39m\u001b[39m\"\u001b[39m)\n\u001b[0;32m     36\u001b[0m \u001b[39mif\u001b[39;00m \u001b[39mnot\u001b[39;00m coroutines\u001b[39m.\u001b[39miscoroutine(main):\n\u001b[0;32m     37\u001b[0m     \u001b[39mraise\u001b[39;00m \u001b[39mValueError\u001b[39;00m(\u001b[39m\"\u001b[39m\u001b[39ma coroutine was expected, got \u001b[39m\u001b[39m{!r}\u001b[39;00m\u001b[39m\"\u001b[39m\u001b[39m.\u001b[39mformat(main))\n",
      "\u001b[1;31mRuntimeError\u001b[0m: asyncio.run() cannot be called from a running event loop"
     ]
    }
   ],
   "source": [
    "import asyncio\n",
    "from datetime import datetime\n",
    "\n",
    "from traveltimepy import Driving, Coordinates, TravelTimeSdk\n",
    "\n",
    "async def main():\n",
    "    sdk = TravelTimeSdk(\"ea148590\", \"1527186dff933ad044809a8e222f3661\")\n",
    "    \n",
    "    results = await sdk.time_map_async(\n",
    "        coordinates=[Coordinates(lat=51.507609, lng=-0.128315), Coordinates(lat=51.517609, lng=-0.138315)],\n",
    "        arrival_time=datetime.now(),\n",
    "        transportation=Driving()\n",
    "    )\n",
    "    print(results)\n",
    "\n",
    "asyncio.run(main())"
   ]
  }
 ],
 "metadata": {
  "kernelspec": {
   "display_name": "Python 3",
   "language": "python",
   "name": "python3"
  },
  "language_info": {
   "codemirror_mode": {
    "name": "ipython",
    "version": 3
   },
   "file_extension": ".py",
   "mimetype": "text/x-python",
   "name": "python",
   "nbconvert_exporter": "python",
   "pygments_lexer": "ipython3",
   "version": "3.10.4"
  }
 },
 "nbformat": 4,
 "nbformat_minor": 2
}
